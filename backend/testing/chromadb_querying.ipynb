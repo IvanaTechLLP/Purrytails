{
 "cells": [
  {
   "cell_type": "code",
   "execution_count": 17,
   "metadata": {},
   "outputs": [
    {
     "data": {
      "text/plain": [
       "True"
      ]
     },
     "execution_count": 17,
     "metadata": {},
     "output_type": "execute_result"
    }
   ],
   "source": [
    "import chromadb\n",
    "import chromadb.utils.embedding_functions as embedding_functions\n",
    "\n",
    "from langchain_huggingface import HuggingFaceEmbeddings\n",
    "from langchain_chroma import Chroma\n",
    "\n",
    "import json\n",
    "import os\n",
    "import ast\n",
    "from dotenv import load_dotenv\n",
    "load_dotenv()"
   ]
  },
  {
   "cell_type": "code",
   "execution_count": 2,
   "metadata": {},
   "outputs": [
    {
     "name": "stderr",
     "output_type": "stream",
     "text": [
      "c:\\Users\\a21ma\\OneDrive\\Desktop\\Code\\Internships and Other Work\\MeDocs (Health Records Startup)\\MeDocs\\venv\\Lib\\site-packages\\sentence_transformers\\cross_encoder\\CrossEncoder.py:11: TqdmWarning: IProgress not found. Please update jupyter and ipywidgets. See https://ipywidgets.readthedocs.io/en/stable/user_install.html\n",
      "  from tqdm.autonotebook import tqdm, trange\n"
     ]
    }
   ],
   "source": [
    "CHROMADB_PATH = os.getenv(\"CHROMADB_PATH\")\n",
    "MAX_CHAT_HISTORY_LENGTH = 5\n",
    "\n",
    "chromadb_client = chromadb.PersistentClient(path=CHROMADB_PATH)\n",
    "embedding_function = embedding_functions.SentenceTransformerEmbeddingFunction(model_name=\"thenlper/gte-base\")\n",
    "embeddings = HuggingFaceEmbeddings(model_name=\"thenlper/gte-base\")\n",
    "\n",
    "reports_collection = chromadb_client.get_or_create_collection(name=\"reports\", embedding_function=embedding_function) # If not specified, by default uses the embedding function \"all-MiniLM-L6-v2\"\n",
    "users_collection = chromadb_client.get_or_create_collection(name=\"users\", embedding_function=embedding_function) # If not specified, by default uses the embedding function \"all-MiniLM-L6-v2\"\n",
    "doctor_collection = chromadb_client.get_or_create_collection(name=\"doctors\", embedding_function=embedding_function)\n",
    "\n",
    "reports_vector_store = Chroma(\n",
    "    client=chromadb_client,\n",
    "    collection_name=\"reports\",\n",
    "    embedding_function=embeddings,\n",
    ")\n",
    "\n",
    "source_folder = os.getenv(\"SOURCE_FOLDER\")"
   ]
  },
  {
   "cell_type": "code",
   "execution_count": 3,
   "metadata": {},
   "outputs": [],
   "source": [
    "no_of_reports = reports_collection.count()"
   ]
  },
  {
   "cell_type": "code",
   "execution_count": 26,
   "metadata": {},
   "outputs": [
    {
     "data": {
      "text/plain": [
       "[{'date': '2024-03-08',\n",
       "  'document': 'medical report',\n",
       "  'diseases': 'None',\n",
       "  'medicines': 'Coumadin (warfarin) therapy',\n",
       "  'doctor': 'DR. KIRAN GADRE',\n",
       "  'summary': 'This is a medical report for Mr. Darsh Thakkar, who was tested for Prothrombin Time (PT) and International Normalized Ratio (INR). The report notes that the INR is used only for patients on stable oral anticoagulant therapy and makes no significant contribution to the diagnosis or treatment of patients whose PT is prolonged for other reasons. The report also mentions that the therapeutic range varies with disease and treatment dosage. The report mentions that increased PT times may be due to congenital or acquired factor deficiencies, liver diseases, hemorrhagic disease of the newborn, malabsorption, DIC, vitamin K deficiency, and  hibrinolysis. The report also mentions that interference in PT/INR can be caused by alcohol, antibiotics, aspirin, cimetidine, thrombin inhibitors, barbiturates, oral contraceptives, hormone-replacement therapy (HRT), and vitamin K. ',\n",
       "  'domain': 'Hematology: Diagnosis and treatment of blood disorders',\n",
       "  'link': 'http://localhost:5000/uploaded_images/test3.jpeg',\n",
       "  'report_id': '48c20526-46d4-494c-b6e0-51a8b5bc1f25',\n",
       "  'id': '48c20526-46d4-494c-b6e0-51a8b5bc1f25'}]"
      ]
     },
     "execution_count": 26,
     "metadata": {},
     "output_type": "execute_result"
    }
   ],
   "source": [
    "results = reports_vector_store.similarity_search_with_score(\n",
    "    query=\"prothrombin\", k=no_of_reports, filter={\"user_id\": \"643c7c5a-b74c-4329-839e-7bc4a92be2f3\"}\n",
    ")\n",
    "reports = []\n",
    "if results and any(score < 0.4 for _, score in results):\n",
    "    for res, score in results:\n",
    "        if score < 0.4:\n",
    "            # print(f\"* [SIM={score:3f}] {res.page_content} [{res.metadata}]\")\n",
    "            json_report = ast.literal_eval(res.page_content)\n",
    "            json_report[\"id\"] = res.metadata[\"report_id\"]\n",
    "            reports.append(json_report)\n",
    "            \n",
    "            \n",
    "else:\n",
    "    print(\"No results found.\")\n",
    "    \n",
    "    \n",
    "reports"
   ]
  },
  {
   "cell_type": "code",
   "execution_count": 19,
   "metadata": {},
   "outputs": [
    {
     "name": "stdout",
     "output_type": "stream",
     "text": [
      "<class 'str'>\n"
     ]
    },
    {
     "data": {
      "text/plain": [
       "[{'date': '2023-10-15',\n",
       "  'document': 'medical prescription',\n",
       "  'diseases': 'throat pain, fever, bodyache',\n",
       "  'medicines': 'tab Oncot CF, syp Dilo Dr, tab Dolo 650',\n",
       "  'doctor': 'Dr. Madhavi Paradkar',\n",
       "  'summary': 'The patient is suffering from throat pain, fever, and bodyache. The doctor has prescribed tab Oncot CF, syp Dilo Dr, and tab Dolo 650.',\n",
       "  'domain': 'General Medicine: Comprehensive care for adult patients with various diseases.',\n",
       "  'link': 'http://localhost:5000/uploaded_images/test2.jpeg',\n",
       "  'report_id': 'cb1ffeac-7752-4f6f-af65-caef08310094',\n",
       "  'id': 'cb1ffeac-7752-4f6f-af65-caef08310094'}]"
      ]
     },
     "execution_count": 19,
     "metadata": {},
     "output_type": "execute_result"
    }
   ],
   "source": [
    "relevant_reports=[]\n",
    "\n",
    "report = reports_collection.query(\n",
    "                query_texts=[\"date\"],\n",
    "                n_results=2,\n",
    "                include=[\"documents\", \"metadatas\"],\n",
    "            )\n",
    "\n",
    "report_document = report[\"documents\"][0][0]\n",
    "report_metadata = report[\"metadatas\"][0][0]\n",
    "print(type(report_document))\n",
    "report = ast.literal_eval(report_document)\n",
    "report[\"id\"] = report_metadata[\"report_id\"]\n",
    "relevant_reports.append(report)\n",
    "\n",
    "relevant_reports"
   ]
  },
  {
   "cell_type": "code",
   "execution_count": 5,
   "metadata": {},
   "outputs": [
    {
     "data": {
      "text/plain": [
       "{'ids': ['7b981d60-0a09-4811-a2ff-9102cd7001f4',\n",
       "  '2b951dba-aa11-4eae-8699-1baad6421007',\n",
       "  '0b792de6-bcf4-49a0-95b7-f7056ec76022',\n",
       "  '2fd53905-1878-4cf1-bb53-aafc7fa85c09'],\n",
       " 'embeddings': None,\n",
       " 'documents': None,\n",
       " 'uris': None,\n",
       " 'data': None,\n",
       " 'metadatas': [{'date': '2023-10-15',\n",
       "   'report': 'CLINIC :\\nDarshana Park, \\'A-1\\',\\nLane 9B, Kalyani Nagar,\\nPune - 06.\\nPh: 9822004602\\n\\nCure Well Clinic\\nGENERAL - PEDIATRIC\\nVisod that kas\\n2 days.\\n15-101123\\n-  thwat pain \\n-  femi\\n-  bodyache & 1 day.\\n-  cnd\\n-  dono\\n\\nDr. Madhavi Paradkar\\nM.B.B.S. DCH\\nReg No. - 79755\\nThurs\\nemtt.\\nTab Oncat. CF x sd\\n- syp Dilo Dr. x 3 day \\nsone - sm\\nAN\\nNH\\nTab Dolo sm\\nosd\\nAdle\\nHessmgomn.\\nTiming : Mon. - Fri.: \"11.00 a.m. to 1.30 p.m.\" & \"6.30 p.m. to 8.30 p.m.\" Sat.: \"11 am to 2 p.m.\"\\n• Saturday Evening & Sunday Closed •',\n",
       "   'report_id': '7b981d60-0a09-4811-a2ff-9102cd7001f4',\n",
       "   'user_id': '49390894-ceb1-4e76-abc4-4463eaab3a24'},\n",
       "  {'date': '2024-03-08 00:00:00',\n",
       "   'report': \"['Mr. DARSH THAKKAR\\\\nF.09 CHAND SOC NR ISKON JUHU\\\\nMumbai.\\\\nTel No. : 8688861043\\\\nPIN No. : 400049\\\\nPID No. : P40023519988929\\\\nAge : 20 Year(s) Sex : Male\\\\n\\\\nReference : DR. KIRAN GADRE\\\\nSample Collected At :\\\\nPreventive Care(m/h)\\\\n303 Sunrise Business Park Kisan Nagar\\\\nRoad No 16 Wagle Estate Thane -\\\\n400604.\\\\nProcessing Location : Metropolis\\\\nHealthcare Ltd.Unit No:409-416,4th\\\\nFloor,Commercial Building-1,Kohinoor\\\\nMall,Mumbai-70\\\\n\\\\nVID : 230330505340808\\\\nRegistered On :\\\\n08/03/2024 01:47 PM\\\\nCollected On :\\\\n08/03/2024 1:44PM\\\\nReported On :\\\\n08/03/2024 05:58 PM\\\\n\\\\nInvestigation                                 Observed Value    Unit                                Biological Reference Interval\\\\nProthrombin Time (PT)                      13.0              sec                                 11-16\\\\nProthrombin Time                           13.3              sec                                 ---\\\\nControl (MNPT)                              0.98              ---                                 ---\\\\nRatio                                      102.31            %                                  ---\\\\nIndex                                        ---              ---                                 Normal Population : 0.8 - 1.2\\\\nPT(INR) Value                              0.98              ---                                 Standard Therapy : 2.0 - 3.0\\\\n                                                                    High Dose Therapy : 3.0 - 4.5\\\\n\\\\nTest done on Fully Automated Coagulometer (Clotting)\\\\nNote:\\\\nKindly correlate with clinical and therapeutic history.\\\\n\\\\nInterpretation :\\\\n* The prothrombin time (PT) and international normalized ratio (INR) are measures of the extrinsic pathway of coagulation.\\\\n* The INR is used only for patients on stable oral anticoagulant therapy. It makes no significant contribution to the diagnosis or treatment of patients whose PT is prolonged for other reasons.\\\\n* INR is the most commonly used parameters for monitoring oral anticoagulant treatment. Its therapeutic range varies with disease and treatment dosage.\\\\n\\\\nIncreased PT times may be due to :\\\\nCongenital or acquired factor deficiencies (of Factor II, V, VII, X, Fibrinogen), Coumadin (warfarin) therapy.\\\\n* Hemorrhagic Disease of the newborn.\\\\n* Liver Diseases (Bile duct obstruction, Cirrhosis, Hepatitis).\\\\n* DIC.\\\\n* Malabsorption.\\\\n* Fibrinolysis.\\\\n* Vitamin K deficiency.\\\\n\\\\nInterference in PT/INR\\\\nAlcohol, antibiotics, aspirin, cimetidine, thrombin inhibitors(Increase PT), Barbiturates, oral contraceptives, hormone-replacement therapy (HRT), and vitamin K (Decrease PT).\\\\n\\\\nTests marked with NABL symbol are accredited by NABL vide Certificate no MC-2139. Validity still 01-06-2024\\\\n\\\\nPage 1 of 5\\\\n\\\\nDr. SANJAY GOHIL\\\\nM.D. Pathologist\\\\nHOD Haematology\\\\nReg No. 2009/08/3391\\\\n']\",\n",
       "   'report_id': '2b951dba-aa11-4eae-8699-1baad6421007',\n",
       "   'user_id': '49390894-ceb1-4e76-abc4-4463eaab3a24'},\n",
       "  {'date': '2024-03-08 00:00:00',\n",
       "   'report': '[\"Mr. DARSH THAKKAR\\\\nF.09 CHAND SOC NR ISKON JUHU\\\\nMumbai.\\\\nTel No.: 8668861043\\\\nPID No: 400049\\\\nPIN No: 40023519988929\\\\nAge: 20 Year(s) Sex: Male\\\\n\\\\nReference: DR.KIRAN GADRE\\\\nSample Collected At:\\\\nPreventive Care(mhl)\\\\n303 Sunrise Business Park Kisan Nagar\\\\nRoad No 16 Wagle Estate Thane -\\\\n400604.\\\\nProcessing Location: Metropolis\\\\nhealthcare ltd. Shop no.11, Hub town\\\\npremier, JP road,Andheri (W), Mumbai-\\\\n400053\\\\n\\\\nVID: 230330505340808\\\\nRegistered On:\\\\n08/03/2024 01:47 PM\\\\nCollected On:\\\\n08/03/2024 1:44PM\\\\nReported On:\\\\n08/03/2024 07:46 PM\\\\n\\\\nInvestigation\\\\nRoutine Examination Urine\\\\nBiological Reference Interval\\\\nGeneral Examination\\\\nObserved Value\\\\nUnit\\\\nColour\\\\nPale Yellow\\\\nPale Yellow\\\\nTransparency (Appearance)\\\\nClear\\\\nClear\\\\nDeposit\\\\nAbsent\\\\nAbsent\\\\nReaction (pH)\\\\n6.0\\\\n4.5-8\\\\nSpecific gravity\\\\n1.015\\\\n1.010-1.030\\\\nChemical Examination (Automated Dipstick Method)\\\\nUrine Protein (Albumin)\\\\n(Protein Error Principle)\\\\nAbsent\\\\nAbsent\\\\nUrine Glucose\\\\n(Glucose Oxidase-Peroxidase)\\\\nAbsent\\\\nAbsent\\\\nUrine Ketones (Acetone)\\\\n(Legal\\'s test)\\\\nAbsent\\\\nAbsent\\\\nBile pigments\\\\n(Fouchets method)\\\\nAbsent\\\\nAbsent\\\\nBile salts\\\\n(Fouchets method)\\\\nAbsent\\\\nAbsent\\\\nUrobilinogen\\\\n(Diazonium Ion Reaction)\\\\nNormal\\\\nNormal\\\\nNitrite\\\\n(Griess test)\\\\nNegative\\\\nNegative\\\\nMicroscopic Examination\\\\nRed blood cells\\\\nAbsent\\\\n/uL\\\\nAbsent\\\\nPus cells (WBCs)\\\\n2-3\\\\n/uL\\\\n0-5\\\\nEpithelial cells\\\\n0-2\\\\n/uL\\\\n0-4\\\\nCrystals\\\\nAbsent\\\\nAbsent\\\\nCast\\\\nAbsent\\\\nAbsent\\\\nAmorphous deposits\\\\nAbsent\\\\nAbsent\\\\nBacteria\\\\nAbsent\\\\nAbsent\\\\nTrichomonas Vaginalis\\\\nAbsent\\\\nAbsent\\\\nYeast cells\\\\nAbsent\\\\nAbsent\\\\nDr. JULY MEHTA\\\\nM.D. PATHOLOGY\\\\n\\\\nPage 2 of 5\\\\nThis is a computer generated medical diagnostics report that has been validated by an Authorised Medical Practitioner/Doctor. The report does not need physical signature. Results relate only to the sample as received. Refer to conditions of reporting mentioned.\", \\'Mr. DARSH THAKKAR\\\\nF.09 CHAND SOC NR ISKON JUHU\\\\nMumbai\\\\nTel No. : 8688861043\\\\nPIN No. : 400049\\\\nPID NO : P40023519988929\\\\nAge : 20 Year(s) Sex : Male\\\\n\\\\nReference : DR.KIRAN GADRE\\\\nSample Collected At :\\\\nPreventive Care(mhl)\\\\n303 Sunrise Business Park Kisan Nagar\\\\nRoad No 16 Wagle Estate Thane -\\\\n400604.\\\\nProcessing Location : Metropolis\\\\nhealthcare ltd. Shop no.11, Hub town\\\\npremier, JP road,Andheri (W), Mumbai-\\\\n400053\\\\n\\\\nVID: 230330505340808\\\\nRegistered On:\\\\n08/03/2024 01:47 PM\\\\nCollected On:\\\\n08/03/2024 1:44PM\\\\nReported On:\\\\n08/03/2024 07:46 PM\\\\n\\\\nInvestigation\\\\nObserved Value Unit Biological Reference Interval\\\\nInvestigation Observed Value Unit Biological Reference Interval\\\\nNote 1. Pre-test conditions to be observed while submitting the sample- First void, mid-stream urine, collected in a clean, dry, sterile container is recommended for routine urine analysis, avoid contamination with any discharge from vaginal, urethra, perineum, as applicable, avoid prolonged transit time & undue exposure to sunlight. 2. During interpretation, points to be considered are Negative nitrite test does not exclude the urinary tract infections. Trace proteinuria can be seen with many physiological conditions like prolonged recumbency, exercise, high protein diet. False positive reactions for bile pigments, proteins, glucose and nitrites can be caused by peroxidase like activity by disinfectants, therapeutic dyes, ascorbic acid and certain drugs.3. All urine samples are checked for adequacy and suitability before examination.\\\\n\\\\nPage 3 of 5\\\\n\\\\nDr. JULY MEHTA\\\\nM.D. PATHOLOGY\\', \\'Mr. DARSH THAKKAR\\\\nF.09 CHAND SOC NR ISKON JUHU\\\\nMumbai.\\\\nTel No. : 8688861043\\\\nPID NO: 400049\\\\nPIN NO: 44002351998929\\\\nAge: 20 Year(s) Sex: Male\\\\n\\\\nMedical Laboratory Report\\\\nReference: DR.KIRAN GADRE\\\\nSample Collected At:\\\\nPreventive Care(mhl)\\\\n303 Sunrise Business Park Kisan Nagar\\\\nRoad No 16 Wagle Estate Thane -\\\\n400604.\\\\nProcessing Location: Metropolis\\\\nhealthcare ltd. Shop no.1, Hub town\\\\npremier, JP road,Andheri (W), Mumbai-\\\\n400053\\\\n\\\\nVID: 2303305340808\\\\nRegistered On:\\\\n08/03/2024 01:47 PM\\\\nCollected On:\\\\n08/03/2024 1:44PM\\\\nReported On:\\\\n08/03/2024 07:46 PM\\\\n\\\\nCBC Haemogram\\\\nInvestigation                                   Observed Value          Unit                                     Biological Reference Interval\\\\nErythrocytes\\\\nHaemoglobin (Hb)                               15.2                     gm/dL                                    14-18\\\\nErythrocyte (RBC) Count                        4.93                     mill/cu.mm                             4.4-6.0\\\\nPCV (Packed Cell Volume)                       45.4                     %                                       42-52\\\\nMCV (Mean Corpuscular Volume)                  92.1                     fL                                       82-101\\\\nMCH (Mean Corpuscular Hb)                       30.8                     pg                                       27-34\\\\nMCHC (Mean Corpuscular Hb Concn.)             33.5                     g/dL                                     31.5-36\\\\nRDW (Red Cell Distribution Width)             13.1                     %                                       11.5-14.0\\\\nRBC Morphology                                 Normocytic Normochromic\\\\nLeukocytes\\\\nTotal Leucocytes (WBC) count                 7.380                    cells/cu.mm                            4300-10300\\\\nAbsolute Neutrophils Count                     4480                    /c.mm                                    2000-7000\\\\nAbsolute Lymphocyte Count                      2170                    /c.mm                                    1000-3000\\\\nAbsolute Monocyte Count                        509                     /c.mm                                    200-1000\\\\nAbsolute Eosinophil Count                       111                     /c.mm                                    20-500\\\\nAbsolute Basophil Count                         111                     /c.mm                                    20-100\\\\nNeutrophils                                     60.7                     %                                       40-80\\\\nLymphocytes                                     29.4                     %                                       20-40\\\\nMonocytes                                       6.9                      %                                       2.0-10\\\\nEosinophils                                      1.5                      %                                       1-6\\\\nBasophils                                       1.5                      %                                       0-2\\\\nPlatelets\\\\nPlatelet count                                  345                     10^3/µl                                  140-440\\\\nMPV (Mean Platelet Volume)                     9.0                      fL                                       7.8-11\\\\nPCT (Platelet crit)                             0.310                    %                                       0.2-0.5\\\\nPDW (Platelet Distribution Width)              13.3                     %                                       9-17\\\\n\\\\nDr. JULY MEHTA\\\\nM.D. PATHOLOGY\\\\n\\\\nPage 4 of 5\\\\n\\\\nThis is a computer generated medical diagnostics report that has been validated by an Authorised Medical Practitioner/Doctor. The report does not need physical signature.\\\\nResults relate only to the sample as received. Refer to conditions of reporting as mentioned.\\\\n\\\\nINNER HEALTH REVEALED\\']',\n",
       "   'report_id': '0b792de6-bcf4-49a0-95b7-f7056ec76022',\n",
       "   'user_id': '49390894-ceb1-4e76-abc4-4463eaab3a24'},\n",
       "  {'date': '2024-03-08 00:00:00',\n",
       "   'report': '[\"Mr. DARSH THAKKAR\\\\nF 09 CHAND SOC NR ISKON JUHU\\\\nMumbai.\\\\nTel No. : 8688861043\\\\nPID NO: 440049\\\\nPIN NO: P40023519989829\\\\nAge: 20 Year(s) Sex: Male\\\\n\\\\nReference: DR. KIRAN GADRE\\\\nSample Collected At:\\\\nPreventive Care(mh)\\\\n303 Sunrise Business Park Kisan Nagar\\\\nRoad No 16 Wagle Estate Thane -\\\\n400604.\\\\nProcessing Location: Metropolis\\\\nHealthcare Ltd. Shop no.1, Hub town\\\\npremier, JP road, Andheri (W), Mumbai-\\\\n400053\\\\n\\\\nVID: 230330505340808\\\\nRegistered On:\\\\n08/03/2024 01:47 PM\\\\nCollected On:\\\\n08/03/2024 1:44PM\\\\nReported On:\\\\n08/03/2024 07:46 PM\\\\n\\\\nInvestigation\\\\nNote: Kindly note change in reference ranges.\\\\nEDTA Whole Blood - Test done on Automated five-part cell counter. (WBC, RBC, Platelet count by Impedance Method, WBC Differential by flowcytometry technology, Haemoglobin by Spectrophotometry, MCV and RDW are derived from Platelet histogram. Calculated Parameters are: HCT, MCH, PCT from Absolute WBC counts). All abnormal hemogram are reviewed and confirmed microscopically. Differential count is based on approximately 10,000 cells. \\\\n\\\\nBleeding & Clotting Time*\\\\n[Blood]\\\\nBleeding time by Ivy\\'s method\\\\nClotting time\\\\n2.18\\\\n4.22\\\\nmin\\\\nmin\\\\n1-9\\\\n3-11\\\\n\\\\nInterpretation :\\\\n1. Bleeding Time is an in vivo test which reflects platelet, vessel wall and some plasma factor participation in the formation of haemostatic plugs within the small blood vessels. In this test the time taken for a standard skin puncture to stop bleeding is measured. Cessation of bleeding indicates the formation of the haemostatic plug.\\\\n2. Bleeding time is increased in qualitative abnormalities of platelets, thrombocytopenia, von Willebrands disease and anticoagulant therapy with aspirin.\\\\n3. Clotting time measures the time required for clot formation.\\\\n4. An increased clotting time is seen in deficiencies of the clotting factors or depleted fibrinogen.\\\\n5. Prothrombin time (PT), activated partial thromboplastin time (APTT) and platelet count are a better primary screen for bleeding disorders.\\\\n\\\\n-- End of Report --\\\\n\\\\nPage 5 of 5\\\\n\\\\nDr. JULY MEHTA\\\\nM.D. PATHOLOGY\\\\n\"]',\n",
       "   'report_id': '2fd53905-1878-4cf1-bb53-aafc7fa85c09',\n",
       "   'user_id': '49390894-ceb1-4e76-abc4-4463eaab3a24'}],\n",
       " 'included': [<IncludeEnum.metadatas: 'metadatas'>]}"
      ]
     },
     "execution_count": 5,
     "metadata": {},
     "output_type": "execute_result"
    }
   ],
   "source": [
    "reports_collection.get(include=[\"metadatas\"])"
   ]
  },
  {
   "cell_type": "code",
   "execution_count": 6,
   "metadata": {},
   "outputs": [
    {
     "data": {
      "text/plain": [
       "{'ids': ['7b981d60-0a09-4811-a2ff-9102cd7001f4'],\n",
       " 'embeddings': None,\n",
       " 'documents': [\"{'date': '2023-10-15', 'document': 'medical prescription', 'diseases': 'throat pain, bodyache', 'medicines': 'tab Oncot CF x 1, syp Dilo Dr x 1, tab Dolo 650', 'doctor': 'Dr. Madhavi Paradkar', 'domain': 'General Medicine: Comprehensive care for adult patients with various diseases.', 'link': 'http://localhost:5000/uploaded_images/test2.jpeg', 'report_id': '7b981d60-0a09-4811-a2ff-9102cd7001f4'}\"],\n",
       " 'uris': None,\n",
       " 'data': None,\n",
       " 'metadatas': [{'date': '2023-10-15',\n",
       "   'report': 'CLINIC :\\nDarshana Park, \\'A-1\\',\\nLane 9B, Kalyani Nagar,\\nPune - 06.\\nPh: 9822004602\\n\\nCure Well Clinic\\nGENERAL - PEDIATRIC\\nVisod that kas\\n2 days.\\n15-101123\\n-  thwat pain \\n-  femi\\n-  bodyache & 1 day.\\n-  cnd\\n-  dono\\n\\nDr. Madhavi Paradkar\\nM.B.B.S. DCH\\nReg No. - 79755\\nThurs\\nemtt.\\nTab Oncat. CF x sd\\n- syp Dilo Dr. x 3 day \\nsone - sm\\nAN\\nNH\\nTab Dolo sm\\nosd\\nAdle\\nHessmgomn.\\nTiming : Mon. - Fri.: \"11.00 a.m. to 1.30 p.m.\" & \"6.30 p.m. to 8.30 p.m.\" Sat.: \"11 am to 2 p.m.\"\\n• Saturday Evening & Sunday Closed •',\n",
       "   'report_id': '7b981d60-0a09-4811-a2ff-9102cd7001f4',\n",
       "   'user_id': '49390894-ceb1-4e76-abc4-4463eaab3a24'}],\n",
       " 'included': [<IncludeEnum.documents: 'documents'>,\n",
       "  <IncludeEnum.metadatas: 'metadatas'>]}"
      ]
     },
     "execution_count": 6,
     "metadata": {},
     "output_type": "execute_result"
    }
   ],
   "source": [
    "reports_collection.get(ids=['7b981d60-0a09-4811-a2ff-9102cd7001f4'])"
   ]
  },
  {
   "cell_type": "code",
   "execution_count": 6,
   "metadata": {},
   "outputs": [
    {
     "data": {
      "text/plain": [
       "{'ids': [],\n",
       " 'embeddings': None,\n",
       " 'documents': [],\n",
       " 'uris': None,\n",
       " 'data': None,\n",
       " 'metadatas': [],\n",
       " 'included': [<IncludeEnum.documents: 'documents'>,\n",
       "  <IncludeEnum.metadatas: 'metadatas'>]}"
      ]
     },
     "execution_count": 6,
     "metadata": {},
     "output_type": "execute_result"
    }
   ],
   "source": [
    "doctor_collection.get()"
   ]
  },
  {
   "cell_type": "code",
   "execution_count": 4,
   "metadata": {},
   "outputs": [
    {
     "data": {
      "text/plain": [
       "{'ids': ['4c572c6e-7313-4329-9c02-6fce33b9f12f'],\n",
       " 'embeddings': None,\n",
       " 'documents': [\"{'user_id': '4c572c6e-7313-4329-9c02-6fce33b9f12f', 'email': 'abhaymathur2101@gmail.com', 'name': 'Abhay Mathur', 'shared_reports': '[]'}\"],\n",
       " 'uris': None,\n",
       " 'data': None,\n",
       " 'metadatas': [{'email': 'abhaymathur2101@gmail.com',\n",
       "   'name': 'Abhay Mathur',\n",
       "   'shared_reports': '[{\"report_id\": \"1f5b37bd-e392-4b4a-86cf-a9aebb2098b1\", \"notes\": \"\"}, {\"report_id\": \"7ed05ef1-4b42-421e-89d6-421ce84275e8\", \"notes\": \"\"}]'}],\n",
       " 'included': [<IncludeEnum.documents: 'documents'>,\n",
       "  <IncludeEnum.metadatas: 'metadatas'>]}"
      ]
     },
     "execution_count": 4,
     "metadata": {},
     "output_type": "execute_result"
    }
   ],
   "source": [
    "doctor_collection.get(ids=['4c572c6e-7313-4329-9c02-6fce33b9f12f'])"
   ]
  },
  {
   "cell_type": "code",
   "execution_count": 24,
   "metadata": {},
   "outputs": [
    {
     "name": "stdout",
     "output_type": "stream",
     "text": [
      "[{'report_id': '1f5b37bd-e392-4b4a-86cf-a9aebb2098b1', 'notes': ''}, {'report_id': '7ed05ef1-4b42-421e-89d6-421ce84275e8', 'notes': ''}]\n",
      "['1f5b37bd-e392-4b4a-86cf-a9aebb2098b1', '7ed05ef1-4b42-421e-89d6-421ce84275e8']\n"
     ]
    }
   ],
   "source": [
    "doctor_data = doctor_collection.get(\n",
    "                    include=[\"documents\", \"metadatas\"],\n",
    "                    ids=[\"4c572c6e-7313-4329-9c02-6fce33b9f12f\"],\n",
    "                )\n",
    "                \n",
    "shared_reports_data = json.loads(doctor_data[\"metadatas\"][0][\"shared_reports\"])\n",
    "print(shared_reports_data)\n",
    "doctor_report_ids = [report[\"report_id\"] for report in shared_reports_data]\n",
    "print(doctor_report_ids)\n",
    "doctor_report_ids = ['7ed05ef1-4b42-421e-89d6-421ce84275e8', '1f5b37bd-e392-4b4a-86cf-a9aebb2098b1']"
   ]
  },
  {
   "cell_type": "code",
   "execution_count": 28,
   "metadata": {},
   "outputs": [
    {
     "data": {
      "text/plain": [
       "[(Document(metadata={'date': '2024-03-08', 'report': 'Mr. DARSH THAKKAR\\nF 09 CHAND SOC NR ISKON JUHU\\nMumbai.\\nTel No : 8668861043\\nPIN No : 400049\\nPID No : P4002351998829\\nAge : 20 Year(S) Sex : Male\\n\\nReference: DR. KIRAN GADRE\\nSample Collected At:\\nPreventive Care(mhl)\\n303 Sunrise Business Park Kisan Nagar\\nRoad No 16 Wagle Estate Thane -\\n400604.\\nProcessing Location: Metropolis\\nHealthcare Ltd. Unit No409-416,4th\\nFloor,Commercial Building-1,Kohinoor\\nMall,Mumbai-70\\n\\nVID: 230330505340808\\nRegistered On:\\n08/03/2024 01:47 PM\\nCollected On:\\n08/03/2024 1:44PM\\nReported On:\\n08/03/2024 05:58 PM\\n\\nInvestigation | Observed Value | Unit | Biological Reference Interval\\n------- | -------- | -------- | --------\\nProthrombin Time (PT) | 13.0 | sec | 11-16\\n(Citrated plasma) |  |  |  \\nProthrombin Time | 13.3 | sec | --\\nControl (MNPT) |  |  |  \\nRatio | 0.98 |  | --\\nIndex | 102.31 | % | --\\nPT(INR) Value | 0.98 |  | Normal Population: 0.8 - 1.2\\n |  |  | Standard Therapy: 2.0 - 3.0\\n |  |  | High Dose Therapy: 3.0 - 4.5\\n\\nTest done on Fully Automated Coaguolometer (Clotting)\\nNote:\\nKindly correlate with clinical and therapeutic history.\\nInterpretation:\\n- The prothrombin time (PT) and international normalized ratio (INR) are measures of the extrinsic pathway of coagulation.\\n- The INR is used only for patients on stable oral anticoagulant therapy. It makes no significant contribution to the diagnosis or treatment of patients whose PT is prolonged for other reasons.\\n- INR is the most commonly used parameters for monitoring oral anticoagulant treatment. Its therapeutic range varies with disease and treatment dosage.\\n\\nIncreased PT times may be due to:\\n- Congenital or acquired factor deficiencies of (Factor II, V, VII, X, Fibrinogen), Coumadin (warfarin) therapy.\\n- Liver Diseases (Bile duct obstruction, Cirrhosis, Hepatitis).\\n- Hemorrhagic Disease of the newborn.\\n- DIC.\\n- Malabsorption.\\n- Vitamin K deficiency.\\n-  Hibrinolysis.\\n\\nInterference in PT/INR\\nAlcohol, antibiotics, aspirin, cimetidine, thrombin inhibitors(Increase PT) Barbiturates, oral contraceptives, hormone-replacement therapy (HRT), and vitamin K (Decrease PT).', 'report_id': '1f5b37bd-e392-4b4a-86cf-a9aebb2098b1', 'user_id': '2a0345e6-fbcb-4f16-b15e-0f4b93f7e133'}, page_content=\"{'date': '2024-03-08', 'document': 'medical report', 'diseases': 'None', 'medicines': 'Coumadin (warfarin) therapy', 'doctor': 'DR. KIRAN GADRE', 'summary': 'This is a medical report for Mr. Darsh Thakkar. The report includes his prothrombin time (PT) and international normalized ratio (INR) results. The report also includes information about the interpretation of the results, increased PT times, and interference in PT/INR. The report states that the INR is used only for patients on stable oral anticoagulant therapy. It makes no significant contribution to the diagnosis or treatment of patients whose PT is prolonged for other reasons. The report also states that the INR is the most commonly used parameters for monitoring oral anticoagulant treatment. Its therapeutic range varies with disease and treatment dosage. The report also states that increased PT times may be due to congenital or acquired factor deficiencies (Factor II, V, VII, X, Fibrinogen), Coumadin (warfarin) therapy, Liver Diseases (Bile duct obstruction, Cirrhosis, Hepatitis), Hemorrhagic Disease of the newborn, DIC, Malabsorption, Vitamin K deficiency,  and  Hibrinolysis.', 'domain': 'Hematology: Diagnosis and treatment of blood disorders', 'link': 'http://localhost:5000/uploaded_images/test3.jpeg', 'report_id': '1f5b37bd-e392-4b4a-86cf-a9aebb2098b1'}\"),\n",
       "  0.24761234937611623),\n",
       " (Document(metadata={'date': '2023-10-15', 'report': 'CLINIC:\\nDarshana Park, \\'A-1\\',\\nLane 9B, Kalyani Nagar,\\nPune - 06.\\nPh: 9822004602\\n\\nCure Well Clinic\\n\\nGENERAL - PEDIATRIC\\nVisod Thatkas\\n2 days.\\n\\n15-101123\\n\\n- throat pain\\n- fever\\n- bodyache & 1 day\\n- cold\\n\\nDr. Madhavi Paradkar\\nM.B.B.S. DCH.\\nReg. No. - 79755\\n\\nThurs\\nem + +\\n\\nD.D.O.\\n\\nTab Oncat. CF x sd\\nSYP Dilo Dr. x 3day\\nson\\nAN\\nTab DOLO sm\\nOSD\\n\\nAdle\\nHessmgoom\\n\\nTiming: Mon. - Fri.: \"11.00 a.m. to 1.30 p.m.\" & \"6.30 p.m. to 8.30 p.m.\" Sat.: \"11 am to 2 p.m.\"\\n• Saturday Evening & Sunday Closed •', 'report_id': '7ed05ef1-4b42-421e-89d6-421ce84275e8', 'user_id': '2a0345e6-fbcb-4f16-b15e-0f4b93f7e133'}, page_content=\"{'date': '2023-10-15', 'document': 'medical prescription', 'diseases': 'throat pain, bodyache', 'medicines': 'tab Oncot CF, syp Dilo Dr, tab Dolo 650', 'doctor': 'Dr. Madhavi Paradkar', 'summary': 'The patient is suffering from throat pain and bodyache. The doctor has prescribed tab Oncot CF, syp Dilo Dr, and tab Dolo 650.', 'domain': 'General Medicine: Comprehensive care for adult patients with various diseases.', 'link': 'http://localhost:5000/uploaded_images/test2.jpeg', 'report_id': '7ed05ef1-4b42-421e-89d6-421ce84275e8'}\"),\n",
       "  0.30133292802717415)]"
      ]
     },
     "execution_count": 28,
     "metadata": {},
     "output_type": "execute_result"
    }
   ],
   "source": [
    "results = reports_vector_store.similarity_search_with_score(\n",
    "                    query=\"medical report\", k=2, filter={\"report_id\": {\n",
    "                        \"$in\": doctor_report_ids\n",
    "                    }}\n",
    "                )\n",
    "results"
   ]
  }
 ],
 "metadata": {
  "kernelspec": {
   "display_name": "venv",
   "language": "python",
   "name": "python3"
  },
  "language_info": {
   "codemirror_mode": {
    "name": "ipython",
    "version": 3
   },
   "file_extension": ".py",
   "mimetype": "text/x-python",
   "name": "python",
   "nbconvert_exporter": "python",
   "pygments_lexer": "ipython3",
   "version": "3.11.4"
  }
 },
 "nbformat": 4,
 "nbformat_minor": 2
}
